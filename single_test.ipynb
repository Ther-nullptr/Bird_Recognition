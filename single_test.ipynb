{
 "cells": [
  {
   "cell_type": "code",
   "execution_count": 270,
   "source": [
    "import librosa\n",
    "import torch\n",
    "import numpy as np\n",
    "from PIL import Image\n",
    "\n",
    "from torchvision import transforms\n",
    "from torch import nn"
   ],
   "outputs": [],
   "metadata": {}
  },
  {
   "cell_type": "code",
   "execution_count": 271,
   "source": [
    "FILE_PATH = \"/mnt/c/Users/86181/Datasets/Bird\"\n",
    "BIRD_LABEL = {\n",
    "    \"0009\": \"灰雁\",\n",
    "    \"0017\": \"大天鹅\",\n",
    "    \"0034\": \"绿头鸭\",\n",
    "    \"0036\": \"绿翅鸭\",\n",
    "    \"0074\": \"灰山鹑\",\n",
    "    \"0077\": \"西鹌鹑\",\n",
    "    \"0114\": \"雉鸡\",\n",
    "    \"0121\": \"红喉潜鸟\",\n",
    "    \"0180\": \"苍鹭\",\n",
    "    \"0202\": \"普通鸬鹚\",\n",
    "    \"0235\": \"苍鹰\",\n",
    "    \"0257\": \"欧亚鵟\",\n",
    "    \"0265\": \"西方秧鸡\",\n",
    "    \"0281\": \"骨顶鸡\",\n",
    "    \"0298\": \"黑翅长脚鹬\",\n",
    "    \"0300\": \"凤头麦鸡\",\n",
    "    \"0364\": \"白腰草鹬\",\n",
    "    \"0368\": \"红脚鹬\",\n",
    "    \"0370\": \"林鹬\",\n",
    "    \"1331\": \"麻雀\"\n",
    "}"
   ],
   "outputs": [],
   "metadata": {}
  },
  {
   "cell_type": "code",
   "execution_count": 272,
   "source": [
    "# CNN\n",
    "class CNN(nn.Module):\n",
    "    def __init__(self):\n",
    "        super(CNN,self).__init__()\n",
    "\n",
    "        self.conv1 = nn.Conv2d(in_channels=1,\n",
    "                               out_channels=32,\n",
    "                               kernel_size=(3, 3),\n",
    "                               stride=(1, 1),\n",
    "                               padding=0)\n",
    "\n",
    "        self.conv2 = nn.Conv2d(in_channels=32,\n",
    "                               out_channels=64,\n",
    "                               kernel_size=(3, 3),\n",
    "                               stride=(1, 1),\n",
    "                               padding=0)\n",
    "\n",
    "        self.conv3 = nn.Conv2d(in_channels=64,\n",
    "                               out_channels=128,\n",
    "                               kernel_size=(3, 3),\n",
    "                               stride=(1, 1),\n",
    "                               padding=0)\n",
    "\n",
    "        self.conv4 = nn.Conv2d(in_channels=128,\n",
    "                               out_channels=256,\n",
    "                               kernel_size=(3, 3),\n",
    "                               stride=(1, 1),\n",
    "                               padding=0)\n",
    "\n",
    "        self.batchNorm1 = nn.BatchNorm2d(32)\n",
    "        self.batchNorm2 = nn.BatchNorm2d(64)\n",
    "        self.batchNorm3 = nn.BatchNorm2d(128)\n",
    "        self.batchNorm3 = nn.BatchNorm2d(256)\n",
    "        self.relu = nn.LeakyReLU()\n",
    "        self.max_pool = nn.MaxPool2d(kernel_size=2)\n",
    "        self.dropout1 = nn.Dropout(0.25)\n",
    "        self.dropout2 = nn.Dropout(0.5)\n",
    "        self.linear1 = nn.Linear(in_features=256, out_features=32)\n",
    "        self.linear2 = nn.Linear(in_features=32, out_features=20)\n",
    "\n",
    "    def forward(self,x):\n",
    "        x = self.conv1(x)\n",
    "        x = self.batchNorm1(x)\n",
    "        x = self.relu(x)\n",
    "        x = self.max_pool(x)\n",
    "\n",
    "        x = self.conv2(x)\n",
    "        x = self.batchNorm2(x)\n",
    "        x = self.relu(x)\n",
    "        x = self.max_pool(x)\n",
    "\n",
    "        x = self.conv3(x)\n",
    "        # x = self.batchNorm3(x)\n",
    "        x = self.relu(x)\n",
    "        x = self.max_pool(x)\n",
    "        x = self.dropout1(x)\n",
    "\n",
    "        x = self.conv4(x)\n",
    "        # x = self.batchNorm4(x)\n",
    "        x = self.relu(x)\n",
    "        x = self.max_pool(x)\n",
    "        x = self.dropout1(x)\n",
    "\n",
    "        x = x.view(x.shape[0], -1) # 将数据设置为1维\n",
    "        x = self.linear1(x)\n",
    "        x = self.relu(x)\n",
    "        x = self.dropout2(x)\n",
    "        x = self.linear2(x)\n",
    "        return x"
   ],
   "outputs": [],
   "metadata": {}
  },
  {
   "cell_type": "code",
   "execution_count": 273,
   "source": [
    "def convert_to_mfcc(file_name):\n",
    "    y, sr = librosa.load(file_name,sr=None)\n",
    "    # spectrogram\n",
    "    spectrogram = librosa.feature.melspectrogram(y=y, sr=sr)\n",
    "    S_dB = librosa.power_to_db(spectrogram, ref=np.max) # use positive value!\n",
    "    mfcc = librosa.feature.mfcc(S=S_dB,sr=None,n_mfcc=40,dct_type=2)\n",
    "    mfcc = Image.fromarray(mfcc)\n",
    "    return mfcc"
   ],
   "outputs": [],
   "metadata": {}
  },
  {
   "cell_type": "code",
   "execution_count": 274,
   "source": [
    "def softmax(x):\n",
    "    x = x - np.max(x)\n",
    "    return np.exp(x)/np.sum(np.exp(x))"
   ],
   "outputs": [],
   "metadata": {}
  },
  {
   "cell_type": "code",
   "execution_count": 275,
   "source": [
    "cnn = torch.load('cnn.pkl')\n",
    "transform = transforms.Compose([\n",
    "        transforms.Resize((50,50)),\n",
    "        transforms.ToTensor(),\n",
    "        transforms.Normalize(mean=0.5,std=0.5)\n",
    "    ])"
   ],
   "outputs": [],
   "metadata": {}
  },
  {
   "cell_type": "code",
   "execution_count": 276,
   "source": [
    "class_name = \"0281\"\n",
    "file_name = \"290480_3.wav\"\n",
    "full_file_name = FILE_PATH+'/'+class_name+'/'+file_name\n",
    "keys = list(BIRD_LABEL.keys())\n",
    "\n",
    "input_data = convert_to_mfcc(full_file_name)\n",
    "\n",
    "input_data = transform(input_data)\n",
    "input_data = input_data.unsqueeze(0)\n",
    "with torch.no_grad():\n",
    "    output_result = cnn(input_data)\n",
    "output_result = np.array(output_result.squeeze())\n",
    "output_result = softmax(output_result)\n",
    "print(output_result*100)\n",
    "\n",
    "predicted_result = output_result.argmax()\n",
    "predicted_kind = BIRD_LABEL[keys[predicted_result]]\n",
    "print(\"predicted result: {}\".format(predicted_kind))\n",
    "print(\"actual result: {}\".format(BIRD_LABEL[class_name]))\n",
    "\n"
   ],
   "outputs": [
    {
     "output_type": "stream",
     "name": "stdout",
     "text": [
      "[1.1829198e-01 1.2484890e-08 3.0809904e-03 5.8781046e-01 2.9499416e-09\n",
      " 1.6363701e-07 1.6667817e-02 2.3498764e+00 2.1472057e-10 5.5874353e-03\n",
      " 6.8742892e-08 2.4216066e-03 2.7947916e-02 9.6553925e+01 1.5290799e-04\n",
      " 1.1838568e-13 8.9512079e-04 3.3327785e-01 5.2874083e-07 5.9161819e-05]\n",
      "predicted result: 骨顶鸡\n",
      "actual result: 骨顶鸡\n"
     ]
    }
   ],
   "metadata": {}
  }
 ],
 "metadata": {
  "orig_nbformat": 4,
  "language_info": {
   "name": "python",
   "version": "3.8.10",
   "mimetype": "text/x-python",
   "codemirror_mode": {
    "name": "ipython",
    "version": 3
   },
   "pygments_lexer": "ipython3",
   "nbconvert_exporter": "python",
   "file_extension": ".py"
  },
  "kernelspec": {
   "name": "python3",
   "display_name": "Python 3.8.10 64-bit"
  },
  "interpreter": {
   "hash": "31f2aee4e71d21fbe5cf8b01ff0e069b9275f58929596ceb00d14d90e3e16cd6"
  }
 },
 "nbformat": 4,
 "nbformat_minor": 2
}